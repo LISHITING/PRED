{
 "cells": [
  {
   "cell_type": "code",
   "execution_count": 1,
   "metadata": {
    "collapsed": false
   },
   "outputs": [],
   "source": [
    "import gensim\n",
    "\n",
    "model = gensim.models.Word2Vec.load('model_1')\n",
    "\n"
   ]
  },
  {
   "cell_type": "code",
   "execution_count": 2,
   "metadata": {
    "collapsed": false
   },
   "outputs": [],
   "source": [
    "labels = []\n",
    "with open('../data/pascal-sentences/labels.txt', 'r') as labels_file:\n",
    "    line = labels_file.readline().rstrip()\n",
    "    while line:\n",
    "        labels.append(line)\n",
    "        line = labels_file.readline().rstrip()\n",
    "\n",
    "# match label and class\n",
    "l = [label for i,label in enumerate(labels) if i%50 == 0]\n",
    "l\n",
    "l[0] = 'airplane'\n",
    "l[10] = 'table'\n",
    "l[19] = 'monitor'\n",
    "l[15] = 'plant'\n",
    "word_vec = [model[word] for word in l]\n",
    "\n"
   ]
  },
  {
   "cell_type": "code",
   "execution_count": 3,
   "metadata": {
    "collapsed": false
   },
   "outputs": [],
   "source": [
    "from sklearn.cluster import KMeans\n",
    "import numpy as np"
   ]
  },
  {
   "cell_type": "code",
   "execution_count": 4,
   "metadata": {
    "collapsed": false
   },
   "outputs": [],
   "source": [
    "kmeans = KMeans(n_clusters=5, random_state=0).fit(word_vec)"
   ]
  },
  {
   "cell_type": "code",
   "execution_count": 5,
   "metadata": {
    "collapsed": false
   },
   "outputs": [
    {
     "data": {
      "text/plain": [
       "array([1, 4, 3, 1, 2, 1, 1, 3, 0, 2, 0, 3, 2, 4, 4, 3, 2, 0, 1, 0], dtype=int32)"
      ]
     },
     "execution_count": 5,
     "metadata": {},
     "output_type": "execute_result"
    }
   ],
   "source": [
    "labelsss = kmeans.labels_\n",
    "labelsss"
   ]
  },
  {
   "cell_type": "code",
   "execution_count": 6,
   "metadata": {
    "collapsed": false
   },
   "outputs": [
    {
     "data": {
      "text/plain": [
       "(200, 2)"
      ]
     },
     "execution_count": 6,
     "metadata": {},
     "output_type": "execute_result"
    }
   ],
   "source": [
    "import pickle\n",
    "fc2_pre = pickle.load(open('fc2_pre','rb'))\n",
    "low_dim_embs = pickle.load(open('low_dim_embs','rb'))\n",
    "from sklearn.manifold import TSNE\n",
    "tsne = TSNE(perplexity=10, n_components=2, n_iter=5000,random_state=0)\n",
    "low_dim_embs = tsne.fit_transform(list(fc2_pre[:]))\n",
    "\n",
    "vecs = [[] for i in range(5)]\n",
    "for i,l in enumerate(labelsss):\n",
    "    vecs[l] = np.append(vecs[l],low_dim_embs[i*50:(i+1)*50])\n",
    "for i in range(5):\n",
    "    vecs[i] = vecs[i].reshape(-1,2) \n",
    "vecs[0].shape"
   ]
  },
  {
   "cell_type": "code",
   "execution_count": null,
   "metadata": {
    "collapsed": false
   },
   "outputs": [],
   "source": [
    "import matplotlib.pyplot as plt\n",
    "def visualisation(data):\n",
    "    fig, ax = plt.subplots()\n",
    "    i=0\n",
    "    #这里如果有20个类就要写20个颜色，这个例子只有3个颜色，因为数据只有三类\n",
    "    for color in ['red', 'green', 'blue','black','purple']:\n",
    "        x = data[i][:,0]\n",
    "        y = data[i][:,1]\n",
    "        scale = 20\n",
    "        ax.scatter(x, y, c=color, s=scale, label=i,alpha=0.5, edgecolors='none')\n",
    "        ax.legend()\n",
    "        i=i+1\n",
    "    plt.show()\n",
    "visualisation(vecs)"
   ]
  },
  {
   "cell_type": "code",
   "execution_count": null,
   "metadata": {
    "collapsed": true
   },
   "outputs": [],
   "source": []
  }
 ],
 "metadata": {
  "kernelspec": {
   "display_name": "Python 3",
   "language": "python",
   "name": "python3"
  },
  "language_info": {
   "codemirror_mode": {
    "name": "ipython",
    "version": 3
   },
   "file_extension": ".py",
   "mimetype": "text/x-python",
   "name": "python",
   "nbconvert_exporter": "python",
   "pygments_lexer": "ipython3",
   "version": "3.5.2"
  }
 },
 "nbformat": 4,
 "nbformat_minor": 0
}
