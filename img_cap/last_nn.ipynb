{
 "cells": [
  {
   "cell_type": "code",
   "execution_count": 90,
   "metadata": {
    "collapsed": false
   },
   "outputs": [],
   "source": [
    "import pickle\n",
    "import tensorflow as tf\n",
    "\n",
    "import numpy as np\n",
    "\n",
    "# ###### construct new dataset with captions and images\n",
    "normData = pickle.load(open(\"normData\",\"rb\"))\n",
    "captions_vectors = normData.captions\n",
    "images_vectors = pickle.load(open('fc1_img','rb'))\n",
    "labels = np.array(normData.labels)\n",
    "\n",
    "captions_images_vectors = np.array([None]*len(captions_vectors))\n",
    "\n",
    "for i in range(len(captions_images_vectors)):\n",
    "    captions_images_vectors[i] = captions_vectors[i]*images_vectors[i]\n",
    "\n",
    "##### assign\n",
    "train_data = []\n",
    "test_data = []\n",
    "train_label = []\n",
    "test_label = []\n",
    "for i in range(1000):\n",
    "    if i % 10 < 8:\n",
    "        train_data.append(captions_images_vectors[i])\n",
    "        train_label.append(labels[i])\n",
    "    else:\n",
    "        test_data.append(captions_images_vectors[i])\n",
    "        test_label.append(labels[i])\n",
    "\n",
    "train_data_nd = np.array(train_data)\n",
    "train_label_nd = np.array(train_label)\n",
    "test_data_nd = np.array(test_data)\n",
    "test_label_nd = np.array(test_label)\n",
    "\n",
    "######"
   ]
  },
  {
   "cell_type": "code",
   "execution_count": 91,
   "metadata": {
    "collapsed": false
   },
   "outputs": [
    {
     "name": "stdout",
     "output_type": "stream",
     "text": [
      "0 ,accuracy: 0.365\n",
      "200 ,accuracy: 0.42\n",
      "400 ,accuracy: 0.45\n",
      "600 ,accuracy: 0.45\n",
      "800 ,accuracy: 0.45\n",
      "1000 ,accuracy: 0.455\n",
      "1200 ,accuracy: 0.465\n",
      "1400 ,accuracy: 0.46\n",
      "1600 ,accuracy: 0.465\n",
      "1800 ,accuracy: 0.46\n",
      "2000 ,accuracy: 0.46\n",
      "2200 ,accuracy: 0.46\n",
      "2400 ,accuracy: 0.475\n",
      "2600 ,accuracy: 0.475\n",
      "2800 ,accuracy: 0.47\n",
      "3000 ,accuracy: 0.47\n",
      "3200 ,accuracy: 0.48\n",
      "3400 ,accuracy: 0.48\n",
      "3600 ,accuracy: 0.48\n",
      "3800 ,accuracy: 0.48\n",
      "4000 ,accuracy: 0.49\n",
      "4200 ,accuracy: 0.49\n",
      "4400 ,accuracy: 0.49\n",
      "4600 ,accuracy: 0.495\n",
      "4800 ,accuracy: 0.495\n",
      "5000 ,accuracy: 0.495\n",
      "5200 ,accuracy: 0.495\n",
      "5400 ,accuracy: 0.495\n",
      "5600 ,accuracy: 0.505\n",
      "5800 ,accuracy: 0.495\n",
      "6000 ,accuracy: 0.495\n",
      "6200 ,accuracy: 0.495\n",
      "6400 ,accuracy: 0.5\n",
      "6600 ,accuracy: 0.5\n",
      "6800 ,accuracy: 0.51\n",
      "7000 ,accuracy: 0.515\n",
      "7200 ,accuracy: 0.52\n",
      "7400 ,accuracy: 0.525\n",
      "7600 ,accuracy: 0.525\n",
      "7800 ,accuracy: 0.525\n",
      "8000 ,accuracy: 0.52\n",
      "8200 ,accuracy: 0.515\n",
      "8400 ,accuracy: 0.515\n",
      "8600 ,accuracy: 0.515\n",
      "8800 ,accuracy: 0.515\n",
      "9000 ,accuracy: 0.515\n",
      "9200 ,accuracy: 0.52\n",
      "9400 ,accuracy: 0.52\n",
      "9600 ,accuracy: 0.525\n",
      "9800 ,accuracy: 0.53\n",
      "10000 ,accuracy: 0.535\n",
      "10200 ,accuracy: 0.535\n",
      "10400 ,accuracy: 0.535\n",
      "10600 ,accuracy: 0.53\n",
      "10800 ,accuracy: 0.53\n",
      "11000 ,accuracy: 0.525\n",
      "11200 ,accuracy: 0.525\n",
      "11400 ,accuracy: 0.525\n",
      "11600 ,accuracy: 0.53\n",
      "11800 ,accuracy: 0.53\n",
      "12000 ,accuracy: 0.535\n",
      "12200 ,accuracy: 0.535\n",
      "12400 ,accuracy: 0.535\n",
      "12600 ,accuracy: 0.535\n",
      "12800 ,accuracy: 0.535\n",
      "13000 ,accuracy: 0.535\n",
      "13200 ,accuracy: 0.535\n",
      "13400 ,accuracy: 0.535\n",
      "13600 ,accuracy: 0.535\n",
      "13800 ,accuracy: 0.535\n",
      "14000 ,accuracy: 0.535\n",
      "14200 ,accuracy: 0.535\n",
      "14400 ,accuracy: 0.535\n",
      "14600 ,accuracy: 0.535\n",
      "14800 ,accuracy: 0.535\n",
      "15000 ,accuracy: 0.535\n",
      "15200 ,accuracy: 0.535\n",
      "15400 ,accuracy: 0.535\n",
      "15600 ,accuracy: 0.535\n",
      "15800 ,accuracy: 0.535\n",
      "16000 ,accuracy: 0.535\n",
      "16200 ,accuracy: 0.535\n",
      "16400 ,accuracy: 0.535\n",
      "16600 ,accuracy: 0.535\n",
      "16800 ,accuracy: 0.535\n",
      "17000 ,accuracy: 0.535\n",
      "17200 ,accuracy: 0.535\n",
      "17400 ,accuracy: 0.535\n",
      "17600 ,accuracy: 0.535\n",
      "17800 ,accuracy: 0.54\n",
      "18000 ,accuracy: 0.54\n",
      "18200 ,accuracy: 0.54\n",
      "18400 ,accuracy: 0.54\n",
      "18600 ,accuracy: 0.535\n",
      "18800 ,accuracy: 0.53\n",
      "19000 ,accuracy: 0.53\n",
      "19200 ,accuracy: 0.53\n",
      "19400 ,accuracy: 0.53\n",
      "19600 ,accuracy: 0.53\n",
      "19800 ,accuracy: 0.53\n"
     ]
    }
   ],
   "source": [
    "captions_dim = 1024\n",
    "x = tf.placeholder(tf.float32,[None,captions_dim])\n",
    "W1 = tf.Variable(tf.zeros([captions_dim, 20]))\n",
    "b1 = tf.Variable(tf.zeros([20]))\n",
    "y1 = tf.matmul(x, W1) + b1\n",
    "# output\n",
    "y = y1\n",
    "y_ = tf.placeholder(tf.float32,[None,20])\n",
    "\n",
    "# cross_entropy\n",
    "cross_entropy = tf.reduce_mean(tf.nn.softmax_cross_entropy_with_logits(logits=y, labels=y_))\n",
    "train_step = tf.train.GradientDescentOptimizer(0.5).minimize(cross_entropy)\n",
    "\n",
    "sess = tf.InteractiveSession()\n",
    "tf.global_variables_initializer().run()\n",
    "\n",
    "correct_prediction = tf.equal(tf.argmax(y,1), tf.argmax(y_,1))\n",
    "accuracy = tf.reduce_mean(tf.cast(correct_prediction, tf.float32))\n",
    "\n",
    "for i in range(20000):\n",
    "    sess.run(train_step, feed_dict={x: train_data, y_: train_label})\n",
    "    if i % 200 == 0:\n",
    "        print(i, ',accuracy:', sess.run(accuracy, feed_dict={x: test_data, y_: test_label}))"
   ]
  },
  {
   "cell_type": "code",
   "execution_count": null,
   "metadata": {
    "collapsed": true
   },
   "outputs": [],
   "source": []
  },
  {
   "cell_type": "code",
   "execution_count": 52,
   "metadata": {
    "collapsed": false
   },
   "outputs": [],
   "source": [
    "cap_vec = pickle.load(open('cap_vec','rb'))"
   ]
  },
  {
   "cell_type": "code",
   "execution_count": 53,
   "metadata": {
    "collapsed": false
   },
   "outputs": [],
   "source": [
    "def plot_with_labels(low_dim_embs, labels, filename='cap_vec.png'):\n",
    "  assert low_dim_embs.shape[0] >= len(labels), \"More labels than embeddings\"\n",
    "  plt.figure(figsize=(18, 18))  # in inches\n",
    "  for i, label in enumerate(labels):\n",
    "    x, y = low_dim_embs[i, :]\n",
    "    plt.scatter(x, y)\n",
    "    plt.annotate(label,\n",
    "                 xy=(x, y),\n",
    "                 xytext=(5, 2),\n",
    "                 textcoords='offset points',\n",
    "                 ha='right',\n",
    "                 va='bottom')\n",
    "\n",
    "  plt.savefig(filename)\n",
    "\n",
    "from sklearn.manifold import TSNE\n",
    "import matplotlib.pyplot as plt\n",
    "plot_only = 300\n",
    "tsne = TSNE(perplexity=10, n_components=2, n_iter=5000,random_state=0)\n",
    "low_dim_embs = tsne.fit_transform(list(captions_images_vectors[:]))\n",
    "label = [labels[i].argmax() for i in range(plot_only)]\n",
    "plot_with_labels(low_dim_embs, label)"
   ]
  },
  {
   "cell_type": "code",
   "execution_count": 54,
   "metadata": {
    "collapsed": true
   },
   "outputs": [],
   "source": [
    "from sklearn.metrics.pairwise import cosine_similarity"
   ]
  },
  {
   "cell_type": "code",
   "execution_count": 83,
   "metadata": {
    "collapsed": false
   },
   "outputs": [
    {
     "name": "stderr",
     "output_type": "stream",
     "text": [
      "/Users/User/anaconda/lib/python3.5/site-packages/sklearn/utils/validation.py:395: DeprecationWarning: Passing 1d arrays as data is deprecated in 0.17 and will raise ValueError in 0.19. Reshape your data either using X.reshape(-1, 1) if your data has a single feature or X.reshape(1, -1) if it contains a single sample.\n",
      "  DeprecationWarning)\n",
      "/Users/User/anaconda/lib/python3.5/site-packages/sklearn/utils/validation.py:395: DeprecationWarning: Passing 1d arrays as data is deprecated in 0.17 and will raise ValueError in 0.19. Reshape your data either using X.reshape(-1, 1) if your data has a single feature or X.reshape(1, -1) if it contains a single sample.\n",
      "  DeprecationWarning)\n"
     ]
    },
    {
     "data": {
      "text/plain": [
       "array([[ 0.9572987]], dtype=float32)"
      ]
     },
     "execution_count": 83,
     "metadata": {},
     "output_type": "execute_result"
    }
   ],
   "source": [
    "cosine_similarity(fc2_pre[56],fc2_pre[80])"
   ]
  },
  {
   "cell_type": "markdown",
   "metadata": {},
   "source": [
    "low_dim_embs = tsne.fit_transform(list(captions_images_vectors[:plot_only]))\n"
   ]
  },
  {
   "cell_type": "code",
   "execution_count": 97,
   "metadata": {
    "collapsed": false
   },
   "outputs": [],
   "source": [
    "pickle.dump(low_dim_embs,open('low_dim_embs','wb'))"
   ]
  },
  {
   "cell_type": "code",
   "execution_count": 95,
   "metadata": {
    "collapsed": true
   },
   "outputs": [],
   "source": [
    "pickle.dump(labels,open('labels','wb'))"
   ]
  },
  {
   "cell_type": "code",
   "execution_count": 102,
   "metadata": {
    "collapsed": false
   },
   "outputs": [
    {
     "data": {
      "text/plain": [
       "array([[-25.61491316, -29.08214871],\n",
       "       [ -7.42755174,  10.49207257],\n",
       "       [-27.59600535, -33.78903937],\n",
       "       ..., \n",
       "       [-23.07657498, -48.10741972],\n",
       "       [-13.11786391, -40.86524063],\n",
       "       [  1.47335793, -26.26037257]])"
      ]
     },
     "execution_count": 102,
     "metadata": {},
     "output_type": "execute_result"
    }
   ],
   "source": [
    "low_dim_embs"
   ]
  },
  {
   "cell_type": "code",
   "execution_count": 101,
   "metadata": {
    "collapsed": false
   },
   "outputs": [
    {
     "data": {
      "text/plain": [
       "array([[[-25.61491316, -29.08214871],\n",
       "        [ -7.42755174,  10.49207257],\n",
       "        [-27.59600535, -33.78903937],\n",
       "        ..., \n",
       "        [-17.18890222, -45.2456405 ],\n",
       "        [-12.33536968,  14.90747602],\n",
       "        [-22.54915381, -15.83051094]],\n",
       "\n",
       "       [[-32.12554332, -36.00458971],\n",
       "        [  5.50203305,  -8.07926244],\n",
       "        [-20.63265966, -46.91489231],\n",
       "        ..., \n",
       "        [-20.46829662, -43.60111315],\n",
       "        [-30.54012024, -38.95850374],\n",
       "        [ -8.50607279,  -8.16972303]],\n",
       "\n",
       "       [[ -3.94850966, -16.34663357],\n",
       "        [-22.25452369, -29.23942882],\n",
       "        [-25.49284092, -26.40627242],\n",
       "        ..., \n",
       "        [-14.11207917, -41.0898278 ],\n",
       "        [-11.35603308, -33.68211915],\n",
       "        [-22.31035001, -42.46635771]],\n",
       "\n",
       "       ..., \n",
       "       [[-16.02789651, -26.09524806],\n",
       "        [ -0.95732389, -22.3326356 ],\n",
       "        [-15.1020598 , -31.65143896],\n",
       "        ..., \n",
       "        [  0.65651787, -12.53678577],\n",
       "        [-17.1712848 , -35.60872887],\n",
       "        [-24.94871051, -19.12408614]],\n",
       "\n",
       "       [[  7.31413194, -22.23520461],\n",
       "        [-28.71155444, -39.10611148],\n",
       "        [-14.20941582, -16.66440611],\n",
       "        ..., \n",
       "        [  3.50335366, -20.26044323],\n",
       "        [  6.42488962, -17.03101113],\n",
       "        [ -5.346384  , -36.77093089]],\n",
       "\n",
       "       [[-11.27186708, -31.15533793],\n",
       "        [-14.47344003, -45.85371669],\n",
       "        [ -4.98522667,  -2.69322184],\n",
       "        ..., \n",
       "        [-23.07657498, -48.10741972],\n",
       "        [-13.11786391, -40.86524063],\n",
       "        [  1.47335793, -26.26037257]]])"
      ]
     },
     "execution_count": 101,
     "metadata": {},
     "output_type": "execute_result"
    }
   ],
   "source": [
    "low_dim_embs.reshape((20,50,2))"
   ]
  },
  {
   "cell_type": "code",
   "execution_count": null,
   "metadata": {
    "collapsed": true
   },
   "outputs": [],
   "source": []
  }
 ],
 "metadata": {
  "kernelspec": {
   "display_name": "Python 3",
   "language": "python",
   "name": "python3"
  },
  "language_info": {
   "codemirror_mode": {
    "name": "ipython",
    "version": 3
   },
   "file_extension": ".py",
   "mimetype": "text/x-python",
   "name": "python",
   "nbconvert_exporter": "python",
   "pygments_lexer": "ipython3",
   "version": "3.5.2"
  }
 },
 "nbformat": 4,
 "nbformat_minor": 0
}
