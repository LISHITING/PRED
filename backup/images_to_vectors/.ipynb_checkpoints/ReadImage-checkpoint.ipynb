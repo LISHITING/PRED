{
 "cells": [
  {
   "cell_type": "markdown",
   "metadata": {},
   "source": [
    "# Todo List\n",
    "- modify dimension to RGB ✅\n",
    "- capable of running CNN ✅\n",
    "- Improve accuracy 👈\n",
    "- fully shuffle the dataset 打乱数据集\n",
    "- 保存特征\n",
    "- 可视化网络\n"
   ]
  },
  {
   "cell_type": "code",
   "execution_count": 1,
   "metadata": {
    "collapsed": true
   },
   "outputs": [],
   "source": [
    "import os\n",
    "import random\n",
    "import skimage.data\n",
    "import skimage.transform\n",
    "import matplotlib\n",
    "import matplotlib.pyplot as plt\n",
    "import numpy as np\n",
    "import tensorflow as tf"
   ]
  },
  {
   "cell_type": "code",
   "execution_count": 2,
   "metadata": {
    "collapsed": false
   },
   "outputs": [
    {
     "name": "stdout",
     "output_type": "stream",
     "text": [
      "loading dataset/train\n",
      "load dataset/train completed\n",
      "loading dataset/test\n",
      "load dataset/test completed\n"
     ]
    }
   ],
   "source": [
    "\"\"\"\n",
    "input dirctory of dataset\n",
    "output ndarray of images and one-hot array of label\n",
    "\"\"\"\n",
    "def read_dataset(rootDir):\n",
    "    print(\"loading \"+rootDir)\n",
    "    image_list = []\n",
    "    label_list = []\n",
    "    \n",
    "    def load(rootDir):  \n",
    "        for lists in os.listdir(rootDir): \n",
    "            path = os.path.join(rootDir, lists) \n",
    "            patharray = path.split(\"/\")\n",
    "            if (len(patharray) ==4) and (patharray[3]!=\".DS_Store\"):\n",
    "                label = patharray[2]\n",
    "                label_list.append(int(label)-1)\n",
    "                raw = (skimage.data.imread(path))\n",
    "                #在这里开始进行图形处理\n",
    "                y = skimage.transform.resize(raw,(28,28))\n",
    "                temp = y\n",
    "                #处理到这里结束\n",
    "                image_list.append(temp)\n",
    "            if os.path.isdir(path): \n",
    "                load(path)\n",
    "               \n",
    "    load(rootDir)\n",
    "    lable_tf = tf.one_hot(label_list,20)\n",
    "    label_onehot = tf.Session().run(lable_tf)\n",
    "    print (\"load \"+rootDir+\" completed\")\n",
    "    return image_list, label_onehot\n",
    "\n",
    "train_image, train_label = read_dataset(\"dataset/train\")\n",
    "test_image, test_label = read_dataset(\"dataset/test\")\n",
    "# print(train_image)\n",
    "# print(train_label)\n",
    "\n"
   ]
  },
  {
   "cell_type": "code",
   "execution_count": 3,
   "metadata": {
    "collapsed": false
   },
   "outputs": [],
   "source": [
    "train_image = np.array(train_image, np.float32)\n",
    "train_label = np.array(train_label, np.float32)\n",
    "test_image = np.array(test_image, np.float32)\n",
    "test_label = np.array(test_label, np.float32)\n",
    "\n"
   ]
  },
  {
   "cell_type": "code",
   "execution_count": 4,
   "metadata": {
    "collapsed": true
   },
   "outputs": [],
   "source": [
    "def shuffle_dataset(images, labels):   \n",
    "    image_shuffle = []\n",
    "    label_shuffle = []\n",
    "    container = []\n",
    "    for i in range(len(images)):\n",
    "        container.append((images[i],labels[i]))\n",
    "    random.shuffle(container)\n",
    "    for i in range(len(images)):\n",
    "        x,y= container[i]\n",
    "        image_shuffle.append(x)\n",
    "        label_shuffle.append(y)\n",
    "    image_shuffle = np.array(image_shuffle, np.float32)\n",
    "    label_shuffle = np.array(label_shuffle, np.float32)\n",
    "    return image_shuffle, label_shuffle"
   ]
  },
  {
   "cell_type": "code",
   "execution_count": 5,
   "metadata": {
    "collapsed": true
   },
   "outputs": [],
   "source": [
    "def compute_accuracy(v_xs, v_ys):\n",
    "    global prediction\n",
    "    y_pre = sess.run(prediction, feed_dict={xs: v_xs, keep_prob: 1})\n",
    "    correct_prediction = tf.equal(tf.argmax(y_pre, 1), tf.argmax(v_ys, 1))\n",
    "    accuracy = tf.reduce_mean(tf.cast(correct_prediction, tf.float32))\n",
    "    result = sess.run(accuracy, feed_dict={xs: v_xs, ys: v_ys, keep_prob: 1})\n",
    "    return result\n",
    "\n",
    "\n",
    "def weight_variable(shape):\n",
    "    initial = tf.truncated_normal(shape, stddev=0.1)\n",
    "    return tf.Variable(initial)\n",
    "\n",
    "\n",
    "def bias_variable(shape):\n",
    "    initial = tf.constant(0.1, shape=shape)\n",
    "    return tf.Variable(initial)\n",
    "\n",
    "def conv2d(x, W):\n",
    "    return tf.nn.conv2d(x, W, strides=[1, 1, 1, 1], padding='SAME')\n",
    "\n",
    "\n",
    "def max_pool_2x2(x):\n",
    "    return tf.nn.max_pool(x, ksize=[1, 3, 3, 1], strides=[1, 2, 2, 1], padding='SAME')\n",
    "\n"
   ]
  },
  {
   "cell_type": "code",
   "execution_count": 6,
   "metadata": {
    "collapsed": false
   },
   "outputs": [],
   "source": [
    "# define placeholder for inputs to network\n",
    "xs = tf.placeholder(tf.float32, [None, 28,28,3])  # 28x28\n",
    "ys = tf.placeholder(tf.float32, [None, 20])\n",
    "keep_prob = tf.placeholder(tf.float32)\n",
    "\n",
    "x_image = xs\n",
    "\n",
    "## conv1 layer ##\n",
    "W_conv1 = weight_variable([5, 5, 3, 32])  # patch 5x5, in size 1, out size 32\n",
    "b_conv1 = bias_variable([32])\n",
    "h_conv1 = tf.nn.relu(conv2d(x_image, W_conv1) + b_conv1)    # output size 32个28x28\n",
    "h_pool1 = max_pool_2x2(h_conv1)  # output size 32个14x14\n",
    "\n",
    "## conv2 layer ##\n",
    "W_conv2 = weight_variable([5, 5, 32, 64])  # patch 5x5, in size 32, out size 64\n",
    "b_conv2 = bias_variable([64])\n",
    "h_conv2 = tf.nn.relu(conv2d(h_pool1, W_conv2) + b_conv2)  # output size 14x14x64\n",
    "h_pool2 = max_pool_2x2(h_conv2)  # output size 64个7x7\n",
    "\n",
    "## fc1 layer ##\n",
    "h_pool2_flat = tf.reshape(h_pool2, [-1,3136])\n",
    "W_fc1 = weight_variable([3136, 1024])\n",
    "b_fc1 = bias_variable([1024])\n",
    "h_fc1 = tf.nn.relu(tf.matmul(h_pool2_flat, W_fc1) + b_fc1)  \n",
    "h_fc1_drop = tf.nn.dropout(h_fc1, keep_prob)\n",
    "\n",
    "## fc2 layer ##\n",
    "W_fc2 = weight_variable([1024, 20])\n",
    "b_fc2 = bias_variable([20])\n",
    "prediction = tf.nn.softmax(tf.matmul(h_fc1_drop, W_fc2) + b_fc2)\n",
    "\n",
    "# the error between prediction and real data\n",
    "\"\"\"\n",
    "交叉熵可在神经网络(机器学习)中作为损失函数，p表示真实标记的分布，q则为训练后的模型的预测标记分布，交叉熵损失函数可以衡量p与q的相似性。\n",
    "交叉熵作为损失函数还有一个好处是使用sigmoid函数在梯度下降时能避免均方误差损失函数学习速率降低的问题，因为学习速率可以被输出的误差所控制。\n",
    "\"\"\"\n",
    "cross_entropy = tf.reduce_mean(-tf.reduce_sum(ys * tf.log(prediction),reduction_indices=[1]))  # loss\n",
    "train_step = tf.train.AdamOptimizer(1e-4).minimize(cross_entropy)\n"
   ]
  },
  {
   "cell_type": "code",
   "execution_count": 7,
   "metadata": {
    "collapsed": true
   },
   "outputs": [],
   "source": [
    "sess = tf.Session()\n",
    "if int((tf.__version__).split('.')[1]) < 12:\n",
    "    init = tf.initialize_all_variables()\n",
    "else:\n",
    "    init = tf.global_variables_initializer()\n",
    "sess.run(init)"
   ]
  },
  {
   "cell_type": "code",
   "execution_count": 8,
   "metadata": {
    "collapsed": false
   },
   "outputs": [
    {
     "name": "stdout",
     "output_type": "stream",
     "text": [
      "4.2500000447\n",
      "5.4999999702\n",
      "4.7499999404\n",
      "4.2500000447\n",
      "4.50000017881\n",
      "3.24999988079\n",
      "6.49999976158\n",
      "8.25000032783\n",
      "7.24999979138\n",
      "7.0000000298\n",
      "7.24999979138\n",
      "7.7500000596\n",
      "8.50000008941\n",
      "8.25000032783\n",
      "9.25000011921\n",
      "9.49999988079\n",
      "10.2499999106\n",
      "10.7500001788\n",
      "11.249999702\n",
      "10.7500001788\n"
     ]
    }
   ],
   "source": [
    "for i in range(20):\n",
    "    \n",
    "    train_image_shuffle, train_label_shuffle = shuffle_dataset(train_image,train_label)\n",
    "    test_image_shuffle, test_label_shuffle = shuffle_dataset(test_image,test_label)\n",
    "\n",
    "    train_image_batch1 = train_image_shuffle[0:120]\n",
    "    train_image_batch2 = train_image_shuffle[120:240]\n",
    "    train_image_batch3 = train_image_shuffle[240:360]\n",
    "    train_image_batch4 = train_image_shuffle[360:480]\n",
    "    train_image_batch5 = train_image_shuffle[480:600]\n",
    "    train_label_batch1 = train_label_shuffle[0:120]\n",
    "    train_label_batch2 = train_label_shuffle[120:240]\n",
    "    train_label_batch3 = train_label_shuffle[240:360]\n",
    "    train_label_batch4 = train_label_shuffle[360:480]\n",
    "    train_label_batch5 = train_label_shuffle[480:600]\n",
    "\n",
    "    sess.run(train_step, feed_dict={xs: train_image_batch1, ys: train_label_batch1, keep_prob: 0.5})\n",
    "    sess.run(train_step, feed_dict={xs: train_image_batch2, ys: train_label_batch2, keep_prob: 0.5})\n",
    "    sess.run(train_step, feed_dict={xs: train_image_batch3, ys: train_label_batch3, keep_prob: 0.5})\n",
    "    sess.run(train_step, feed_dict={xs: train_image_batch4, ys: train_label_batch4, keep_prob: 0.5})\n",
    "    sess.run(train_step, feed_dict={xs: train_image_batch5, ys: train_label_batch5, keep_prob: 0.5})\n",
    "    \n",
    "    accuracy = 100* compute_accuracy(test_image_shuffle, test_label_shuffle)\n",
    "    print(accuracy)\n",
    "\n",
    "\n"
   ]
  },
  {
   "cell_type": "markdown",
   "metadata": {},
   "source": [
    "# Extracting feature\n",
    "In this part, I use the parameter `W_conv1`,`b_conv1`,`W_conv2`,`b_conv2`,`W_fc1`,`b_fc1`,`W_fc2`,`b_fc2` to construct the model and use agian the training set to go through this network and extract the feature of this image.\n",
    "## Getting the parameter of CNN"
   ]
  },
  {
   "cell_type": "code",
   "execution_count": 9,
   "metadata": {
    "collapsed": false
   },
   "outputs": [],
   "source": [
    "# print (W_conv1)\n",
    "# print (b_conv1)\n",
    "# print (W_conv2)\n",
    "# print (b_conv2)\n",
    "# print (W_fc1)\n",
    "# print (b_fc1)\n",
    "# print (W_fc2)\n",
    "# print (b_fc2)\n",
    "\n",
    "# W_conv11 = sess.run(W_conv1)\n",
    "\n",
    "# print(\"======*======\")\n",
    "# print (W_conv11)\n",
    "\n",
    "# print(\"======*======\")\n",
    "# sess.run(W_conv1.eval(session = sess))"
   ]
  },
  {
   "cell_type": "code",
   "execution_count": null,
   "metadata": {
    "collapsed": true
   },
   "outputs": [],
   "source": []
  },
  {
   "cell_type": "markdown",
   "metadata": {},
   "source": [
    "From above we get the parameters that learn from CNN. The next step is use these parameters to construct a CNN"
   ]
  },
  {
   "cell_type": "code",
   "execution_count": 10,
   "metadata": {
    "collapsed": true
   },
   "outputs": [],
   "source": [
    "# def build_model ():\n",
    "#     h_conv1 = tf.nn.relu(conv2d(x_image, W_conv1) + b_conv1)"
   ]
  },
  {
   "cell_type": "markdown",
   "metadata": {},
   "source": [
    "# t-SNE Visulisation\n",
    "In this part, I use t-SNE to visulise the"
   ]
  }
 ],
 "metadata": {
  "kernelspec": {
   "display_name": "Python 3",
   "language": "python",
   "name": "python3"
  },
  "language_info": {
   "codemirror_mode": {
    "name": "ipython",
    "version": 3
   },
   "file_extension": ".py",
   "mimetype": "text/x-python",
   "name": "python",
   "nbconvert_exporter": "python",
   "pygments_lexer": "ipython3",
   "version": "3.5.2"
  }
 },
 "nbformat": 4,
 "nbformat_minor": 2
}
